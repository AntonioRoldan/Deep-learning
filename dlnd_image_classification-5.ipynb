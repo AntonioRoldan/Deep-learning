{
 "cells": [
  {
   "cell_type": "markdown",
   "metadata": {
    "collapsed": true
   },
   "source": [
    "# Image Classification\n",
    "In this project, you'll classify images from the [CIFAR-10 dataset](https://www.cs.toronto.edu/~kriz/cifar.html).  The dataset consists of airplanes, dogs, cats, and other objects. You'll preprocess the images, then train a convolutional neural network on all the samples. The images need to be normalized and the labels need to be one-hot encoded.  You'll get to apply what you learned and build a convolutional, max pooling, dropout, and fully connected layers.  At the end, you'll get to see your neural network's predictions on the sample images.\n",
    "## Get the Data\n",
    "Run the following cell to download the [CIFAR-10 dataset for python](https://www.cs.toronto.edu/~kriz/cifar-10-python.tar.gz)."
   ]
  },
  {
   "cell_type": "code",
   "execution_count": 1,
   "metadata": {},
   "outputs": [
    {
     "name": "stdout",
     "output_type": "stream",
     "text": [
      "All files found!\n"
     ]
    }
   ],
   "source": [
    "\"\"\"\n",
    "DON'T MODIFY ANYTHING IN THIS CELL THAT IS BELOW THIS LINE\n",
    "\"\"\"\n",
    "from urllib.request import urlretrieve\n",
    "from os.path import isfile, isdir\n",
    "from tqdm import tqdm\n",
    "import problem_unittests as tests\n",
    "import tarfile\n",
    "\n",
    "cifar10_dataset_folder_path = 'cifar-10-batches-py'\n",
    "\n",
    "# Use Floyd's cifar-10 dataset if present\n",
    "floyd_cifar10_location = '/input/cifar-10/python.tar.gz'\n",
    "if isfile(floyd_cifar10_location):\n",
    "    tar_gz_path = floyd_cifar10_location\n",
    "else:\n",
    "    tar_gz_path = 'cifar-10-python.tar.gz'\n",
    "\n",
    "class DLProgress(tqdm):\n",
    "    last_block = 0\n",
    "\n",
    "    def hook(self, block_num=1, block_size=1, total_size=None):\n",
    "        self.total = total_size\n",
    "        self.update((block_num - self.last_block) * block_size)\n",
    "        self.last_block = block_num\n",
    "\n",
    "if not isfile(tar_gz_path):\n",
    "    with DLProgress(unit='B', unit_scale=True, miniters=1, desc='CIFAR-10 Dataset') as pbar:\n",
    "        urlretrieve(\n",
    "            'https://www.cs.toronto.edu/~kriz/cifar-10-python.tar.gz',\n",
    "            tar_gz_path,\n",
    "            pbar.hook)\n",
    "\n",
    "if not isdir(cifar10_dataset_folder_path):\n",
    "    with tarfile.open(tar_gz_path) as tar:\n",
    "        tar.extractall()\n",
    "        tar.close()\n",
    "\n",
    "\n",
    "tests.test_folder_path(cifar10_dataset_folder_path)"
   ]
  },
  {
   "cell_type": "markdown",
   "metadata": {},
   "source": [
    "## Explore the Data\n",
    "The dataset is broken into batches to prevent your machine from running out of memory.  The CIFAR-10 dataset consists of 5 batches, named `data_batch_1`, `data_batch_2`, etc.. Each batch contains the labels and images that are one of the following:\n",
    "* airplane\n",
    "* automobile\n",
    "* bird\n",
    "* cat\n",
    "* deer\n",
    "* dog\n",
    "* frog\n",
    "* horse\n",
    "* ship\n",
    "* truck\n",
    "\n",
    "Understanding a dataset is part of making predictions on the data.  Play around with the code cell below by changing the `batch_id` and `sample_id`. The `batch_id` is the id for a batch (1-5). The `sample_id` is the id for a image and label pair in the batch.\n",
    "\n",
    "Ask yourself \"What are all possible labels?\", \"What is the range of values for the image data?\", \"Are the labels in order or random?\".  Answers to questions like these will help you preprocess the data and end up with better predictions."
   ]
  },
  {
   "cell_type": "code",
   "execution_count": 2,
   "metadata": {},
   "outputs": [
    {
     "name": "stdout",
     "output_type": "stream",
     "text": [
      "\n",
      "Stats of batch 1:\n",
      "Samples: 10000\n",
      "Label Counts: {0: 1005, 1: 974, 2: 1032, 3: 1016, 4: 999, 5: 937, 6: 1030, 7: 1001, 8: 1025, 9: 981}\n",
      "First 20 Labels: [6, 9, 9, 4, 1, 1, 2, 7, 8, 3, 4, 7, 7, 2, 9, 9, 9, 3, 2, 6]\n",
      "\n",
      "Example of Image 5:\n",
      "Image - Min Value: 0 Max Value: 252\n",
      "Image - Shape: (32, 32, 3)\n",
      "Label - Label Id: 1 Name: automobile\n"
     ]
    },
    {
     "data": {
      "image/png": "[encoded data removed]",
      "text/plain": [
       "<matplotlib.figure.Figure at 0x7f7a33b1ec88>"
      ]
     },
     "metadata": {
      "image/png": {
       "height": 250,
       "width": 253
      }
     },
     "output_type": "display_data"
    }
   ],
   "source": [
    "%matplotlib inline\n",
    "%config InlineBackend.figure_format = 'retina'\n",
    "\n",
    "import helper\n",
    "import numpy as np\n",
    "\n",
    "# Explore the dataset\n",
    "batch_id = 1\n",
    "sample_id = 5\n",
    "helper.display_stats(cifar10_dataset_folder_path, batch_id, sample_id)"
   ]
  },
  {
   "cell_type": "markdown",
   "metadata": {},
   "source": [
    "## Implement Preprocess Functions\n",
    "### Normalize\n",
    "In the cell below, implement the `normalize` function to take in image data, `x`, and return it as a normalized Numpy array. The values should be in the range of 0 to 1, inclusive.  The return object should be the same shape as `x`."
   ]
  },
  {
   "cell_type": "code",
   "execution_count": 3,
   "metadata": {},
   "outputs": [
    {
     "name": "stdout",
     "output_type": "stream",
     "text": [
      "Tests Passed\n"
     ]
    }
   ],
   "source": [
    "def normalize(x):\n",
    "    \"\"\"\n",
    "    Normalize a list of sample image data in the range of 0 to 1\n",
    "    : x: List of image data.  The image shape is (32, 32, 3)\n",
    "    : return: Numpy array of normalize data\n",
    "    \"\"\"\n",
    "    # TODO: Implement Function\n",
    "    return (x - np.min(x)) / (np.max(x) - np.min(x))\n",
    "\n",
    "\n",
    "\"\"\"\n",
    "DON'T MODIFY ANYTHING IN THIS CELL THAT IS BELOW THIS LINE\n",
    "\"\"\"\n",
    "tests.test_normalize(normalize)"
   ]
  },
  {
   "cell_type": "markdown",
   "metadata": {},
   "source": [
    "### One-hot encode\n",
    "Just like the previous code cell, you'll be implementing a function for preprocessing.  This time, you'll implement the `one_hot_encode` function. The input, `x`, are a list of labels.  Implement the function to return the list of labels as One-Hot encoded Numpy array.  The possible values for labels are 0 to 9. The one-hot encoding function should return the same encoding for each value between each call to `one_hot_encode`.  Make sure to save the map of encodings outside the function.\n",
    "\n",
    "Hint: Don't reinvent the wheel."
   ]
  },
  {
   "cell_type": "code",
   "execution_count": 4,
   "metadata": {},
   "outputs": [
    {
     "name": "stdout",
     "output_type": "stream",
     "text": [
      "Tests Passed\n"
     ]
    }
   ],
   "source": [
    "def one_hot_encode(x):\n",
    "    \"\"\"\n",
    "    One hot encode a list of sample labels. Return a one-hot encoded vector for each label.\n",
    "    : x: List of sample Labels\n",
    "    : return: Numpy array of one-hot encoded labels\n",
    "    \"\"\"\n",
    "    # TODO: Implement Function\n",
    "    return np.eye(10)[x]\n",
    "\n",
    "\n",
    "\"\"\"\n",
    "DON'T MODIFY ANYTHING IN THIS CELL THAT IS BELOW THIS LINE\n",
    "\"\"\"\n",
    "tests.test_one_hot_encode(one_hot_encode)"
   ]
  },
  {
   "cell_type": "markdown",
   "metadata": {},
   "source": [
    "### Randomize Data\n",
    "As you saw from exploring the data above, the order of the samples are randomized.  It doesn't hurt to randomize it again, but you don't need to for this dataset."
   ]
  },
  {
   "cell_type": "markdown",
   "metadata": {},
   "source": [
    "## Preprocess all the data and save it\n",
    "Running the code cell below will preprocess all the CIFAR-10 data and save it to file. The code below also uses 10% of the training data for validation."
   ]
  },
  {
   "cell_type": "code",
   "execution_count": 5,
   "metadata": {
    "collapsed": true
   },
   "outputs": [],
   "source": [
    "\"\"\"\n",
    "DON'T MODIFY ANYTHING IN THIS CELL\n",
    "\"\"\"\n",
    "# Preprocess Training, Validation, and Testing Data\n",
    "helper.preprocess_and_save_data(cifar10_dataset_folder_path, normalize, one_hot_encode)"
   ]
  },
  {
   "cell_type": "markdown",
   "metadata": {},
   "source": [
    "# Check Point\n",
    "This is your first checkpoint.  If you ever decide to come back to this notebook or have to restart the notebook, you can start from here.  The preprocessed data has been saved to disk."
   ]
  },
  {
   "cell_type": "code",
   "execution_count": 6,
   "metadata": {
    "collapsed": true
   },
   "outputs": [],
   "source": [
    "\"\"\"\n",
    "DON'T MODIFY ANYTHING IN THIS CELL\n",
    "\"\"\"\n",
    "import pickle\n",
    "import problem_unittests as tests\n",
    "import helper\n",
    "\n",
    "# Load the Preprocessed Validation data\n",
    "valid_features, valid_labels = pickle.load(open('preprocess_validation.p', mode='rb'))"
   ]
  },
  {
   "cell_type": "markdown",
   "metadata": {},
   "source": [
    "## Build the network\n",
    "For the neural network, you'll build each layer into a function.  Most of the code you've seen has been outside of functions. To test your code more thoroughly, we require that you put each layer in a function.  This allows us to give you better feedback and test for simple mistakes using our unittests before you submit your project.\n",
    "\n",
    ">**Note:** If you're finding it hard to dedicate enough time for this course each week, we've provided a small shortcut to this part of the project. In the next couple of problems, you'll have the option to use classes from the [TensorFlow Layers](https://www.tensorflow.org/api_docs/python/tf/layers) or [TensorFlow Layers (contrib)](https://www.tensorflow.org/api_guides/python/contrib.layers) packages to build each layer, except the layers you build in the \"Convolutional and Max Pooling Layer\" section.  TF Layers is similar to Keras's and TFLearn's abstraction to layers, so it's easy to pickup.\n",
    "\n",
    ">However, if you would like to get the most out of this course, try to solve all the problems _without_ using anything from the TF Layers packages. You **can** still use classes from other packages that happen to have the same name as ones you find in TF Layers! For example, instead of using the TF Layers version of the `conv2d` class, [tf.layers.conv2d](https://www.tensorflow.org/api_docs/python/tf/layers/conv2d), you would want to use the TF Neural Network version of `conv2d`, [tf.nn.conv2d](https://www.tensorflow.org/api_docs/python/tf/nn/conv2d). \n",
    "\n",
    "Let's begin!\n",
    "\n",
    "### Input\n",
    "The neural network needs to read the image data, one-hot encoded labels, and dropout keep probability. Implement the following functions\n",
    "* Implement `neural_net_image_input`\n",
    " * Return a [TF Placeholder](https://www.tensorflow.org/api_docs/python/tf/placeholder)\n",
    " * Set the shape using `image_shape` with batch size set to `None`.\n",
    " * Name the TensorFlow placeholder \"x\" using the TensorFlow `name` parameter in the [TF Placeholder](https://www.tensorflow.org/api_docs/python/tf/placeholder).\n",
    "* Implement `neural_net_label_input`\n",
    " * Return a [TF Placeholder](https://www.tensorflow.org/api_docs/python/tf/placeholder)\n",
    " * Set the shape using `n_classes` with batch size set to `None`.\n",
    " * Name the TensorFlow placeholder \"y\" using the TensorFlow `name` parameter in the [TF Placeholder](https://www.tensorflow.org/api_docs/python/tf/placeholder).\n",
    "* Implement `neural_net_keep_prob_input`\n",
    " * Return a [TF Placeholder](https://www.tensorflow.org/api_docs/python/tf/placeholder) for dropout keep probability.\n",
    " * Name the TensorFlow placeholder \"keep_prob\" using the TensorFlow `name` parameter in the [TF Placeholder](https://www.tensorflow.org/api_docs/python/tf/placeholder).\n",
    "\n",
    "These names will be used at the end of the project to load your saved model.\n",
    "\n",
    "Note: `None` for shapes in TensorFlow allow for a dynamic size."
   ]
  },
  {
   "cell_type": "code",
   "execution_count": 7,
   "metadata": {},
   "outputs": [
    {
     "name": "stdout",
     "output_type": "stream",
     "text": [
      "Image Input Tests Passed.\n",
      "Label Input Tests Passed.\n",
      "Keep Prob Tests Passed.\n"
     ]
    }
   ],
   "source": [
    "import tensorflow as tf\n",
    "\n",
    "def neural_net_image_input(image_shape):\n",
    "    \"\"\"\n",
    "    Return a Tensor for a batch of image input\n",
    "    : image_shape: Shape of the images\n",
    "    : return: Tensor for image input.\n",
    "    \"\"\"\n",
    "    # TODO: Implement Function\n",
    "    return tf.placeholder(tf.float32, (None, *image_shape), name='x')\n",
    "\n",
    "\n",
    "def neural_net_label_input(n_classes):\n",
    "    \"\"\"\n",
    "    Return a Tensor for a batch of label input\n",
    "    : n_classes: Number of classes\n",
    "    : return: Tensor for label input.\n",
    "    \"\"\"\n",
    "    # TODO: Implement Function\n",
    "    return tf.placeholder(tf.float32, (None, n_classes), name='y')\n",
    "\n",
    "\n",
    "def neural_net_keep_prob_input():\n",
    "    \"\"\"\n",
    "    Return a Tensor for keep probability\n",
    "    : return: Tensor for keep probability.\n",
    "    \"\"\"\n",
    "    # TODO: Implement Function\n",
    "    return tf.placeholder(tf.float32, name='keep_prob')\n",
    "\n",
    "\n",
    "\"\"\"\n",
    "DON'T MODIFY ANYTHING IN THIS CELL THAT IS BELOW THIS LINE\n",
    "\"\"\"\n",
    "tf.reset_default_graph()\n",
    "tests.test_nn_image_inputs(neural_net_image_input)\n",
    "tests.test_nn_label_inputs(neural_net_label_input)\n",
    "tests.test_nn_keep_prob_inputs(neural_net_keep_prob_input)"
   ]
  },
  {
   "cell_type": "markdown",
   "metadata": {},
   "source": [
    "### Convolution and Max Pooling Layer\n",
    "Convolution layers have a lot of success with images. For this code cell, you should implement the function `conv2d_maxpool` to apply convolution then max pooling:\n",
    "* Create the weight and bias using `conv_ksize`, `conv_num_outputs` and the shape of `x_tensor`.\n",
    "* Apply a convolution to `x_tensor` using weight and `conv_strides`.\n",
    " * We recommend you use same padding, but you're welcome to use any padding.\n",
    "* Add bias\n",
    "* Add a nonlinear activation to the convolution.\n",
    "* Apply Max Pooling using `pool_ksize` and `pool_strides`.\n",
    " * We recommend you use same padding, but you're welcome to use any padding.\n",
    "\n",
    "**Note:** You **can't** use [TensorFlow Layers](https://www.tensorflow.org/api_docs/python/tf/layers) or [TensorFlow Layers (contrib)](https://www.tensorflow.org/api_guides/python/contrib.layers) for **this** layer, but you can still use TensorFlow's [Neural Network](https://www.tensorflow.org/api_docs/python/tf/nn) package. You may still use the shortcut option for all the **other** layers."
   ]
  },
  {
   "cell_type": "code",
   "execution_count": 8,
   "metadata": {},
   "outputs": [
    {
     "name": "stdout",
     "output_type": "stream",
     "text": [
      "Tests Passed\n"
     ]
    }
   ],
   "source": [
    "def conv2d_maxpool(x_tensor, conv_num_outputs, conv_ksize, conv_strides, pool_ksize, pool_strides):\n",
    "    \"\"\"\n",
    "    Apply convolution then max pooling to x_tensor\n",
    "    :param x_tensor: TensorFlow Tensor\n",
    "    :param conv_num_outputs: Number of outputs for the convolutional layer\n",
    "    :param conv_strides: Stride 2-D Tuple for convolution\n",
    "    :param pool_ksize: kernal size 2-D Tuple for pool\n",
    "    :param pool_strides: Stride 2-D Tuple for pool\n",
    "    : return: A tensor that represents convolution and max pooling of x_tensor\n",
    "    \"\"\"\n",
    "    # TODO: Implement Function\n",
    "    input_shape = int(x_tensor.shape[3])\n",
    "    output_shape = conv_num_outputs\n",
    "    weight_shape = [*conv_ksize, input_shape, output_shape]\n",
    "    w = tf.Variable(tf.random_normal(weight_shape, stddev=0.1))\n",
    "    b = tf.Variable(tf.zeros(output_shape))\n",
    "    \n",
    "    # Initialize the 2d conv layer\n",
    "    conv_net = tf.nn.conv2d(x_tensor, w, [1, *conv_strides, 1], padding=\"SAME\")\n",
    "    \n",
    "    # Add the bias\n",
    "    conv_net = tf.nn.bias_add(conv_net, b)\n",
    "    \n",
    "    # Add nonlinear activiation with relu\n",
    "    conv_net = tf.nn.relu(conv_net)\n",
    "    \n",
    "    # Max pooling\n",
    "    mp_strides = [1, *pool_strides, 1]\n",
    "    mp_ksize = [1, *conv_ksize, 1]\n",
    "    conv_net = tf.nn.max_pool(conv_net, mp_ksize, mp_strides, padding=\"SAME\")\n",
    "    \n",
    "    return conv_net\n",
    "\n",
    "\"\"\"\n",
    "DON'T MODIFY ANYTHING IN THIS CELL THAT IS BELOW THIS LINE\n",
    "\"\"\"\n",
    "tests.test_con_pool(conv2d_maxpool)"
   ]
  },
  {
   "cell_type": "markdown",
   "metadata": {},
   "source": [
    "### Flatten Layer\n",
    "Implement the `flatten` function to change the dimension of `x_tensor` from a 4-D tensor to a 2-D tensor.  The output should be the shape (*Batch Size*, *Flattened Image Size*). Shortcut option: you can use classes from the [TensorFlow Layers](https://www.tensorflow.org/api_docs/python/tf/layers) or [TensorFlow Layers (contrib)](https://www.tensorflow.org/api_guides/python/contrib.layers) packages for this layer. For more of a challenge, only use other TensorFlow packages."
   ]
  },
  {
   "cell_type": "code",
   "execution_count": 9,
   "metadata": {},
   "outputs": [
    {
     "name": "stdout",
     "output_type": "stream",
     "text": [
      "Tests Passed\n"
     ]
    }
   ],
   "source": [
    "def flatten(x_tensor):\n",
    "    \"\"\"\n",
    "    Flatten x_tensor to (Batch Size, Flattened Image Size)\n",
    "    : x_tensor: A tensor of size (Batch Size, ...), where ... are the image dimensions.\n",
    "    : return: A tensor of size (Batch Size, Flattened Image Size).\n",
    "    \"\"\"\n",
    "    # TODO: Implement Function\n",
    "    return tf.contrib.layers.flatten(x_tensor)\n",
    "\n",
    "\"\"\"\n",
    "DON'T MODIFY ANYTHING IN THIS CELL THAT IS BELOW THIS LINE\n",
    "\"\"\"\n",
    "tests.test_flatten(flatten)"
   ]
  },
  {
   "cell_type": "markdown",
   "metadata": {},
   "source": [
    "### Fully-Connected Layer\n",
    "Implement the `fully_conn` function to apply a fully connected layer to `x_tensor` with the shape (*Batch Size*, *num_outputs*). Shortcut option: you can use classes from the [TensorFlow Layers](https://www.tensorflow.org/api_docs/python/tf/layers) or [TensorFlow Layers (contrib)](https://www.tensorflow.org/api_guides/python/contrib.layers) packages for this layer. For more of a challenge, only use other TensorFlow packages."
   ]
  },
  {
   "cell_type": "code",
   "execution_count": 10,
   "metadata": {},
   "outputs": [
    {
     "name": "stdout",
     "output_type": "stream",
     "text": [
      "Tests Passed\n"
     ]
    }
   ],
   "source": [
    "def fully_conn(x_tensor, num_outputs):\n",
    "    \"\"\"\n",
    "    Apply a fully connected layer to x_tensor using weight and bias\n",
    "    : x_tensor: A 2-D tensor where the first dimension is batch size.\n",
    "    : num_outputs: The number of output that the new tensor should be.\n",
    "    : return: A 2-D tensor where the second dimension is num_outputs.\n",
    "    \"\"\"\n",
    "    # TODO: Implement Function\n",
    "    weight_shape = (int(x_tensor.shape[1]), num_outputs)\n",
    "    weights = tf.Variable(tf.random_normal(weight_shape, stddev=0.01))\n",
    "    bias = tf.Variable(tf.zeros(num_outputs))\n",
    "    layer = tf.add(tf.matmul(x_tensor, weights), bias)\n",
    "    layer = tf.nn.relu(layer)\n",
    "    return layer\n",
    "\n",
    "\n",
    "\"\"\"\n",
    "DON'T MODIFY ANYTHING IN THIS CELL THAT IS BELOW THIS LINE\n",
    "\"\"\"\n",
    "tests.test_fully_conn(fully_conn)"
   ]
  },
  {
   "cell_type": "markdown",
   "metadata": {},
   "source": [
    "### Output Layer\n",
    "Implement the `output` function to apply a fully connected layer to `x_tensor` with the shape (*Batch Size*, *num_outputs*). Shortcut option: you can use classes from the [TensorFlow Layers](https://www.tensorflow.org/api_docs/python/tf/layers) or [TensorFlow Layers (contrib)](https://www.tensorflow.org/api_guides/python/contrib.layers) packages for this layer. For more of a challenge, only use other TensorFlow packages.\n",
    "\n",
    "**Note:** Activation, softmax, or cross entropy should **not** be applied to this."
   ]
  },
  {
   "cell_type": "code",
   "execution_count": 11,
   "metadata": {},
   "outputs": [
    {
     "name": "stdout",
     "output_type": "stream",
     "text": [
      "Tests Passed\n"
     ]
    }
   ],
   "source": [
    "def output(x_tensor, num_outputs):\n",
    "    \"\"\"\n",
    "    Apply a output layer to x_tensor using weight and bias\n",
    "    : x_tensor: A 2-D tensor where the first dimension is batch size.\n",
    "    : num_outputs: The number of output that the new tensor should be.\n",
    "    : return: A 2-D tensor where the second dimension is num_outputs.\n",
    "    \"\"\"\n",
    "    # TODO: Implement Function\n",
    "    biases = tf.Variable(tf.random_normal([num_outputs]))\n",
    "    layer = tf.matmul(x_tensor, tf.Variable(tf.truncated_normal([x_tensor.get_shape().as_list()[1], num_outputs], stddev=0.01, mean=0.0)))\n",
    "    final_output = tf.add(layer, biases)\n",
    "    return final_output\n",
    "\n",
    "\n",
    "\"\"\"\n",
    "DON'T MODIFY ANYTHING IN THIS CELL THAT IS BELOW THIS LINE\n",
    "\"\"\"\n",
    "tests.test_output(output)"
   ]
  },
  {
   "cell_type": "markdown",
   "metadata": {},
   "source": [
    "### Create Convolutional Model\n",
    "Implement the function `conv_net` to create a convolutional neural network model. The function takes in a batch of images, `x`, and outputs logits.  Use the layers you created above to create this model:\n",
    "\n",
    "* Apply 1, 2, or 3 Convolution and Max Pool layers\n",
    "* Apply a Flatten Layer\n",
    "* Apply 1, 2, or 3 Fully Connected Layers\n",
    "* Apply an Output Layer\n",
    "* Return the output\n",
    "* Apply [TensorFlow's Dropout](https://www.tensorflow.org/api_docs/python/tf/nn/dropout) to one or more layers in the model using `keep_prob`. "
   ]
  },
  {
   "cell_type": "code",
   "execution_count": 12,
   "metadata": {},
   "outputs": [
    {
     "name": "stdout",
     "output_type": "stream",
     "text": [
      "Neural Network Built!\n"
     ]
    }
   ],
   "source": [
    "def conv_net(x, keep_prob):\n",
    "    \"\"\"\n",
    "    Create a convolutional neural network model\n",
    "    : x: Placeholder tensor that holds image data.\n",
    "    : keep_prob: Placeholder tensor that hold dropout keep probability.\n",
    "    : return: Tensor that represents logits\n",
    "    \"\"\"\n",
    "    # TODO: Apply 1, 2, or 3 Convolution and Max Pool layers\n",
    "    #    Play around with different number of outputs, kernel size and stride\n",
    "    # Function Definition from Above:\n",
    "    #    conv2d_maxpool(x_tensor, conv_num_outputs, conv_ksize, conv_strides, pool_ksize, pool_strides)\n",
    "    conv = conv2d_maxpool(x_tensor=x, \n",
    "                          conv_num_outputs=32, \n",
    "                          conv_ksize=(5, 5), \n",
    "                          conv_strides=(1, 1),\n",
    "                          pool_ksize=(3,  3), \n",
    "                          pool_strides=(2, 2))\n",
    "\n",
    "    \n",
    "    # second convolutional layer\n",
    "    conv = conv2d_maxpool(x_tensor=conv, \n",
    "                          conv_num_outputs=64, \n",
    "                          conv_ksize=(5, 5), \n",
    "                          conv_strides=(1, 1),\n",
    "                          pool_ksize=(3, 3), \n",
    "                          pool_strides=(1, 1))\n",
    "    \n",
    "    # third convolutional layer\n",
    "    conv = conv2d_maxpool(x_tensor=conv, \n",
    "                          conv_num_outputs=128, \n",
    "                          conv_ksize=(5, 5), \n",
    "                          conv_strides=(1, 1),\n",
    "                          pool_ksize=(3, 3), \n",
    "                          pool_strides=(1, 1))\n",
    "    \n",
    "    # dropout layer\n",
    "    conv = tf.nn.dropout(x=conv,\n",
    "                         keep_prob=keep_prob)\n",
    "    \n",
    "    # TODO: Apply a Flatten Layer\n",
    "    # Function Definition from Above:\n",
    "    #   flatten(x_tensor)\n",
    "    flat = flatten(conv)\n",
    "\n",
    "    # TODO: Apply 1, 2, or 3 Fully Connected Layers\n",
    "    #    Play around with different number of outputs\n",
    "    # Function Definition from Above:\n",
    "    #   fully_conn(x_tensor, num_outputs)\n",
    "    fc = fully_conn(x_tensor=flat, \n",
    "                    num_outputs=128)\n",
    "    \n",
    "    # dropout layer\n",
    "    #fc = tf.nn.dropout(x=fc, \n",
    "    #                   keep_prob=keep_prob)\n",
    "    \n",
    "    # TODO: Apply an Output Layer\n",
    "    #    Set this to the number of classes\n",
    "    # Function Definition from Above:\n",
    "    #   output(x_tensor, num_outputs)\n",
    "    out = output(x_tensor=fc, \n",
    "                 num_outputs=10)\n",
    "    \n",
    "    # TODO: return output\n",
    "    return out\n",
    "\n",
    "\n",
    "\"\"\"\n",
    "DON'T MODIFY ANYTHING IN THIS CELL THAT IS BELOW THIS LINE\n",
    "\"\"\"\n",
    "\n",
    "##############################\n",
    "## Build the Neural Network ##\n",
    "##############################\n",
    "\n",
    "# Remove previous weights, bias, inputs, etc..\n",
    "tf.reset_default_graph()\n",
    "\n",
    "# Inputs\n",
    "x = neural_net_image_input((32, 32, 3))\n",
    "y = neural_net_label_input(10)\n",
    "keep_prob = neural_net_keep_prob_input()\n",
    "\n",
    "# Model\n",
    "logits = conv_net(x, keep_prob)\n",
    "\n",
    "# Name logits Tensor, so that is can be loaded from disk after training\n",
    "logits = tf.identity(logits, name='logits')\n",
    "\n",
    "# Loss and Optimizer\n",
    "cost = tf.reduce_mean(tf.nn.softmax_cross_entropy_with_logits(logits=logits, labels=y))\n",
    "optimizer = tf.train.AdamOptimizer().minimize(cost)\n",
    "\n",
    "# Accuracy\n",
    "correct_pred = tf.equal(tf.argmax(logits, 1), tf.argmax(y, 1))\n",
    "accuracy = tf.reduce_mean(tf.cast(correct_pred, tf.float32), name='accuracy')\n",
    "\n",
    "tests.test_conv_net(conv_net)"
   ]
  },
  {
   "cell_type": "markdown",
   "metadata": {},
   "source": [
    "## Train the Neural Network\n",
    "### Single Optimization\n",
    "Implement the function `train_neural_network` to do a single optimization.  The optimization should use `optimizer` to optimize in `session` with a `feed_dict` of the following:\n",
    "* `x` for image input\n",
    "* `y` for labels\n",
    "* `keep_prob` for keep probability for dropout\n",
    "\n",
    "This function will be called for each batch, so `tf.global_variables_initializer()` has already been called.\n",
    "\n",
    "Note: Nothing needs to be returned. This function is only optimizing the neural network."
   ]
  },
  {
   "cell_type": "code",
   "execution_count": 13,
   "metadata": {},
   "outputs": [
    {
     "name": "stdout",
     "output_type": "stream",
     "text": [
      "Tests Passed\n"
     ]
    }
   ],
   "source": [
    "def train_neural_network(session, optimizer, keep_probability, feature_batch, label_batch):\n",
    "    \"\"\"\n",
    "    Optimize the session on a batch of images and labels\n",
    "    : session: Current TensorFlow session\n",
    "    : optimizer: TensorFlow optimizer function\n",
    "    : keep_probability: keep probability\n",
    "    : feature_batch: Batch of Numpy image data\n",
    "    : label_batch: Batch of Numpy label data\n",
    "    \"\"\"\n",
    "    # TODO: Implement Function\n",
    "    feed_dict = {x: feature_batch, y: label_batch, keep_prob: keep_probability}\n",
    "    session.run(optimizer, feed_dict=feed_dict)\n",
    "    \n",
    "\"\"\"\n",
    "DON'T MODIFY ANYTHING IN THIS CELL THAT IS BELOW THIS LINE\n",
    "\"\"\"\n",
    "tests.test_train_nn(train_neural_network)"
   ]
  },
  {
   "cell_type": "markdown",
   "metadata": {},
   "source": [
    "### Show Stats\n",
    "Implement the function `print_stats` to print loss and validation accuracy.  Use the global variables `valid_features` and `valid_labels` to calculate validation accuracy.  Use a keep probability of `1.0` to calculate the loss and validation accuracy."
   ]
  },
  {
   "cell_type": "code",
   "execution_count": 14,
   "metadata": {
    "collapsed": true
   },
   "outputs": [],
   "source": [
    "def print_stats(session, feature_batch, label_batch, cost, accuracy):\n",
    "    \"\"\"\n",
    "    Print information about loss and validation accuracy\n",
    "    : session: Current TensorFlow session\n",
    "    : feature_batch: Batch of Numpy image data\n",
    "    : label_batch: Batch of Numpy label data\n",
    "    : cost: TensorFlow cost function\n",
    "    : accuracy: TensorFlow accuracy function\n",
    "    \"\"\"\n",
    "    # TODO: Implement Function\n",
    "    feed_dict_loss = { x: feature_batch, y: label_batch, keep_prob: 1.0 }\n",
    "    loss = session.run(cost, feed_dict=feed_dict_loss)\n",
    "    feed_dict_accuracy = { x: valid_features, y: valid_labels, keep_prob: 1.0 }\n",
    "    valid_accuracy = session.run(accuracy, feed_dict=feed_dict_accuracy)\n",
    "    print('Loss: {} Validation Accuracy: {}'.format(loss, valid_accuracy))"
   ]
  },
  {
   "cell_type": "markdown",
   "metadata": {},
   "source": [
    "### Hyperparameters\n",
    "Tune the following parameters:\n",
    "* Set `epochs` to the number of iterations until the network stops learning or start overfitting\n",
    "* Set `batch_size` to the highest number that your machine has memory for.  Most people set them to common sizes of memory:\n",
    " * 64\n",
    " * 128\n",
    " * 256\n",
    " * ...\n",
    "* Set `keep_probability` to the probability of keeping a node using dropout"
   ]
  },
  {
   "cell_type": "code",
   "execution_count": 15,
   "metadata": {
    "collapsed": true
   },
   "outputs": [],
   "source": [
    "# TODO: Tune Parameters\n",
    "epochs = 50\n",
    "batch_size = 1024\n",
    "keep_probability = 0.5"
   ]
  },
  {
   "cell_type": "markdown",
   "metadata": {},
   "source": [
    "### Train on a Single CIFAR-10 Batch\n",
    "Instead of training the neural network on all the CIFAR-10 batches of data, let's use a single batch. This should save time while you iterate on the model to get a better accuracy.  Once the final validation accuracy is 50% or greater, run the model on all the data in the next section."
   ]
  },
  {
   "cell_type": "code",
   "execution_count": null,
   "metadata": {},
   "outputs": [
    {
     "name": "stdout",
     "output_type": "stream",
     "text": [
      "Checking the Training on a Single Batch...\n",
      "Epoch  1, CIFAR-10 Batch 1:  Loss: 2.485368013381958 Validation Accuracy: 0.10499999672174454\n",
      "Epoch  2, CIFAR-10 Batch 1:  Loss: 2.2706403732299805 Validation Accuracy: 0.13099999725818634\n",
      "Epoch  3, CIFAR-10 Batch 1:  Loss: 2.1105451583862305 Validation Accuracy: 0.235199972987175\n",
      "Epoch  4, CIFAR-10 Batch 1:  Loss: 1.9909218549728394 Validation Accuracy: 0.2767999768257141\n",
      "Epoch  5, CIFAR-10 Batch 1:  Loss: 1.8007582426071167 Validation Accuracy: 0.3515999913215637\n",
      "Epoch  6, CIFAR-10 Batch 1:  Loss: 1.698322057723999 Validation Accuracy: 0.3707999885082245\n",
      "Epoch  7, CIFAR-10 Batch 1:  Loss: 1.5980491638183594 Validation Accuracy: 0.3983999788761139\n",
      "Epoch  8, CIFAR-10 Batch 1:  Loss: 1.5019079446792603 Validation Accuracy: 0.4431999921798706\n",
      "Epoch  9, CIFAR-10 Batch 1:  Loss: 1.4532867670059204 Validation Accuracy: 0.4577999711036682\n",
      "Epoch 10, CIFAR-10 Batch 1:  Loss: 1.3794939517974854 Validation Accuracy: 0.46939998865127563\n",
      "Epoch 11, CIFAR-10 Batch 1:  Loss: 1.3388590812683105 Validation Accuracy: 0.4853999614715576\n",
      "Epoch 12, CIFAR-10 Batch 1:  Loss: 1.2727493047714233 Validation Accuracy: 0.49839991331100464\n",
      "Epoch 13, CIFAR-10 Batch 1:  Loss: 1.2176967859268188 Validation Accuracy: 0.5155999660491943\n",
      "Epoch 14, CIFAR-10 Batch 1:  Loss: 1.2385703325271606 Validation Accuracy: 0.4991999566555023\n",
      "Epoch 15, CIFAR-10 Batch 1:  Loss: 1.2430758476257324 Validation Accuracy: 0.5041999816894531\n",
      "Epoch 16, CIFAR-10 Batch 1:  Loss: 1.1380237340927124 Validation Accuracy: 0.5303999781608582\n",
      "Epoch 17, CIFAR-10 Batch 1:  Loss: 1.094289779663086 Validation Accuracy: 0.5397999286651611\n",
      "Epoch 18, CIFAR-10 Batch 1:  Loss: 1.070846676826477 Validation Accuracy: 0.5385999083518982\n",
      "Epoch 19, CIFAR-10 Batch 1:  Loss: 1.0385339260101318 Validation Accuracy: 0.5513999462127686\n",
      "Epoch 20, CIFAR-10 Batch 1:  Loss: 1.0200706720352173 Validation Accuracy: 0.5611999034881592\n",
      "Epoch 21, CIFAR-10 Batch 1:  Loss: 1.0135319232940674 Validation Accuracy: 0.554599940776825\n",
      "Epoch 22, CIFAR-10 Batch 1:  Loss: 0.9709541201591492 Validation Accuracy: 0.5693999528884888\n",
      "Epoch 23, CIFAR-10 Batch 1:  Loss: 0.9328513145446777 Validation Accuracy: 0.5715999007225037\n",
      "Epoch 24, CIFAR-10 Batch 1:  Loss: 0.9405248165130615 Validation Accuracy: 0.5627999305725098\n",
      "Epoch 25, CIFAR-10 Batch 1:  Loss: 0.8776054382324219 Validation Accuracy: 0.5829999446868896\n",
      "Epoch 26, CIFAR-10 Batch 1:  Loss: 0.8445959091186523 Validation Accuracy: 0.5851998925209045\n",
      "Epoch 27, CIFAR-10 Batch 1:  Loss: 0.8862533569335938 Validation Accuracy: 0.5725999474525452\n",
      "Epoch 28, CIFAR-10 Batch 1:  Loss: 0.8544304966926575 Validation Accuracy: 0.5793998837471008\n",
      "Epoch 29, CIFAR-10 Batch 1:  Loss: 0.7872774600982666 Validation Accuracy: 0.5927999019622803\n",
      "Epoch 30, CIFAR-10 Batch 1:  Loss: 0.7796179056167603 Validation Accuracy: 0.584399938583374\n",
      "Epoch 31, CIFAR-10 Batch 1:  Loss: 0.7578415274620056 Validation Accuracy: 0.5865999460220337\n",
      "Epoch 32, CIFAR-10 Batch 1:  Loss: 0.7764871716499329 Validation Accuracy: 0.5649999380111694\n",
      "Epoch 33, CIFAR-10 Batch 1:  Loss: 0.7301791310310364 Validation Accuracy: 0.5755999088287354\n",
      "Epoch 34, CIFAR-10 Batch 1:  Loss: 0.6951051354408264 Validation Accuracy: 0.5883998870849609\n",
      "Epoch 35, CIFAR-10 Batch 1:  Loss: 0.6691874265670776 Validation Accuracy: 0.5891999006271362\n",
      "Epoch 36, CIFAR-10 Batch 1:  Loss: 0.6679450273513794 Validation Accuracy: 0.5879999399185181\n",
      "Epoch 37, CIFAR-10 Batch 1:  Loss: 0.6301753520965576 Validation Accuracy: 0.5895999073982239\n",
      "Epoch 38, CIFAR-10 Batch 1:  Loss: 0.6487769484519958 Validation Accuracy: 0.5839999318122864\n",
      "Epoch 39, CIFAR-10 Batch 1:  Loss: 0.6043151617050171 Validation Accuracy: 0.5887998938560486\n",
      "Epoch 40, CIFAR-10 Batch 1:  Loss: 0.6127749681472778 Validation Accuracy: 0.5809999704360962\n",
      "Epoch 41, CIFAR-10 Batch 1:  Loss: 0.5865845680236816 Validation Accuracy: 0.5979999303817749\n",
      "Epoch 42, CIFAR-10 Batch 1:  Loss: 0.5940632820129395 Validation Accuracy: 0.5859999060630798\n",
      "Epoch 43, CIFAR-10 Batch 1:  Loss: 0.548907995223999 Validation Accuracy: 0.5977999567985535\n",
      "Epoch 44, CIFAR-10 Batch 1:  Loss: 0.5201853513717651 Validation Accuracy: 0.5957999229431152\n",
      "Epoch 45, CIFAR-10 Batch 1:  Loss: 0.5409491658210754 Validation Accuracy: 0.5873998999595642\n",
      "Epoch 46, CIFAR-10 Batch 1:  Loss: 0.6095998883247375 Validation Accuracy: 0.5499999523162842\n",
      "Epoch 47, CIFAR-10 Batch 1:  Loss: 0.5211968421936035 Validation Accuracy: 0.5893999934196472\n",
      "Epoch 48, CIFAR-10 Batch 1:  Loss: 0.49190786480903625 Validation Accuracy: 0.5881999731063843\n",
      "Epoch 49, CIFAR-10 Batch 1:  Loss: 0.46825116872787476 Validation Accuracy: 0.5961999297142029\n",
      "Epoch 50, CIFAR-10 Batch 1:  Loss: 0.4275722801685333 Validation Accuracy: 0.5951999425888062\n"
     ]
    }
   ],
   "source": [
    "\"\"\"\n",
    "DON'T MODIFY ANYTHING IN THIS CELL\n",
    "\"\"\"\n",
    "print('Checking the Training on a Single Batch...')\n",
    "with tf.Session() as sess:\n",
    "    # Initializing the variables\n",
    "    sess.run(tf.global_variables_initializer())\n",
    "    \n",
    "    # Training cycle\n",
    "    for epoch in range(epochs):\n",
    "        batch_i = 1\n",
    "        for batch_features, batch_labels in helper.load_preprocess_training_batch(batch_i, batch_size):\n",
    "            train_neural_network(sess, optimizer, keep_probability, batch_features, batch_labels)\n",
    "        print('Epoch {:>2}, CIFAR-10 Batch {}:  '.format(epoch + 1, batch_i), end='')\n",
    "        print_stats(sess, batch_features, batch_labels, cost, accuracy)"
   ]
  },
  {
   "cell_type": "markdown",
   "metadata": {},
   "source": [
    "### Fully Train the Model\n",
    "Now that you got a good accuracy with a single CIFAR-10 batch, try it with all five batches."
   ]
  },
  {
   "cell_type": "code",
   "execution_count": null,
   "metadata": {},
   "outputs": [
    {
     "name": "stdout",
     "output_type": "stream",
     "text": [
      "Training...\n",
      "Epoch  1, CIFAR-10 Batch 1:  Loss: 2.4862892627716064 Validation Accuracy: 0.09780000150203705\n",
      "Epoch  1, CIFAR-10 Batch 2:  Loss: 2.303565740585327 Validation Accuracy: 0.11139999330043793\n",
      "Epoch  1, CIFAR-10 Batch 3:  Loss: 2.1822590827941895 Validation Accuracy: 0.20260000228881836\n",
      "Epoch  1, CIFAR-10 Batch 4:  Loss: 2.006030559539795 Validation Accuracy: 0.2475999891757965\n",
      "Epoch  1, CIFAR-10 Batch 5:  Loss: 1.9660625457763672 Validation Accuracy: 0.28139999508857727\n",
      "Epoch  2, CIFAR-10 Batch 1:  Loss: 1.8521478176116943 Validation Accuracy: 0.33480000495910645\n",
      "Epoch  2, CIFAR-10 Batch 2:  Loss: 1.7525620460510254 Validation Accuracy: 0.3513999879360199\n",
      "Epoch  2, CIFAR-10 Batch 3:  Loss: 1.7281644344329834 Validation Accuracy: 0.326200008392334\n",
      "Epoch  2, CIFAR-10 Batch 4:  Loss: 1.6376901865005493 Validation Accuracy: 0.3882000148296356\n",
      "Epoch  2, CIFAR-10 Batch 5:  Loss: 1.6471588611602783 Validation Accuracy: 0.41159993410110474\n",
      "Epoch  3, CIFAR-10 Batch 1:  Loss: 1.5678738355636597 Validation Accuracy: 0.4229999780654907\n",
      "Epoch  3, CIFAR-10 Batch 2:  Loss: 1.5218571424484253 Validation Accuracy: 0.4365999698638916\n",
      "Epoch  3, CIFAR-10 Batch 3:  Loss: 1.459895133972168 Validation Accuracy: 0.43540000915527344\n",
      "Epoch  3, CIFAR-10 Batch 4:  Loss: 1.486551284790039 Validation Accuracy: 0.44899997115135193\n",
      "Epoch  3, CIFAR-10 Batch 5:  Loss: 1.489692211151123 Validation Accuracy: 0.45899996161460876\n",
      "Epoch  4, CIFAR-10 Batch 1:  Loss: 1.4419187307357788 Validation Accuracy: 0.4755999445915222\n",
      "Epoch  4, CIFAR-10 Batch 2:  Loss: 1.4406696557998657 Validation Accuracy: 0.47179996967315674\n",
      "Epoch  4, CIFAR-10 Batch 3:  Loss: 1.3525840044021606 Validation Accuracy: 0.47919997572898865\n",
      "Epoch  4, CIFAR-10 Batch 4:  Loss: 1.3510425090789795 Validation Accuracy: 0.48819994926452637\n",
      "Epoch  4, CIFAR-10 Batch 5:  Loss: 1.3409374952316284 Validation Accuracy: 0.5057999491691589\n",
      "Epoch  5, CIFAR-10 Batch 1:  Loss: 1.3230814933776855 Validation Accuracy: 0.5126000046730042\n",
      "Epoch  5, CIFAR-10 Batch 2:  Loss: 1.3306056261062622 Validation Accuracy: 0.5071999430656433\n",
      "Epoch  5, CIFAR-10 Batch 3:  Loss: 1.2642862796783447 Validation Accuracy: 0.5205999612808228\n",
      "Epoch  5, CIFAR-10 Batch 4:  Loss: 1.2641113996505737 Validation Accuracy: 0.5303999185562134\n",
      "Epoch  5, CIFAR-10 Batch 5:  Loss: 1.2435497045516968 Validation Accuracy: 0.539199948310852\n",
      "Epoch  6, CIFAR-10 Batch 1:  Loss: 1.2538962364196777 Validation Accuracy: 0.5393999814987183\n",
      "Epoch  6, CIFAR-10 Batch 2:  Loss: 1.2654404640197754 Validation Accuracy: 0.5301999449729919\n",
      "Epoch  6, CIFAR-10 Batch 3:  Loss: 1.2227706909179688 Validation Accuracy: 0.5345999598503113\n",
      "Epoch  6, CIFAR-10 Batch 4:  Loss: 1.1701754331588745 Validation Accuracy: 0.5561999082565308\n",
      "Epoch  6, CIFAR-10 Batch 5:  Loss: 1.1549441814422607 Validation Accuracy: 0.5579999685287476\n",
      "Epoch  7, CIFAR-10 Batch 1:  Loss: 1.1834306716918945 Validation Accuracy: 0.5582000017166138\n",
      "Epoch  7, CIFAR-10 Batch 2:  Loss: 1.205468773841858 Validation Accuracy: 0.5573999881744385\n",
      "Epoch  7, CIFAR-10 Batch 3:  Loss: 1.142941951751709 Validation Accuracy: 0.55159991979599\n",
      "Epoch  7, CIFAR-10 Batch 4:  Loss: 1.0892467498779297 Validation Accuracy: 0.5837999582290649\n",
      "Epoch  7, CIFAR-10 Batch 5:  Loss: 1.0836527347564697 Validation Accuracy: 0.5811998844146729\n",
      "Epoch  8, CIFAR-10 Batch 1:  Loss: 1.1123262643814087 Validation Accuracy: 0.5867999196052551\n",
      "Epoch  8, CIFAR-10 Batch 2:  Loss: 1.150698184967041 Validation Accuracy: 0.5703999400138855\n",
      "Epoch  8, CIFAR-10 Batch 3:  Loss: 1.0989172458648682 Validation Accuracy: 0.5659999251365662\n",
      "Epoch  8, CIFAR-10 Batch 4:  Loss: 1.08805251121521 Validation Accuracy: 0.5801998376846313\n",
      "Epoch  8, CIFAR-10 Batch 5:  Loss: 1.0292690992355347 Validation Accuracy: 0.5953999161720276\n",
      "Epoch  9, CIFAR-10 Batch 1:  Loss: 1.0700621604919434 Validation Accuracy: 0.5969999432563782\n",
      "Epoch 15, CIFAR-10 Batch 5:  Loss: 0.7762448787689209 Validation Accuracy: 0.6527998447418213\n",
      "Epoch 16, CIFAR-10 Batch 1:  Loss: 0.8032389879226685 Validation Accuracy: 0.66159987449646\n",
      "Epoch 16, CIFAR-10 Batch 2:  Loss: 0.8210203647613525 Validation Accuracy: 0.6683998703956604\n",
      "Epoch 16, CIFAR-10 Batch 3:  Loss: 0.743696928024292 Validation Accuracy: 0.6679998636245728\n",
      "Epoch 16, CIFAR-10 Batch 4:  Loss: 0.7732933759689331 Validation Accuracy: 0.6601999402046204\n",
      "Epoch 16, CIFAR-10 Batch 5:  Loss: 0.7542834281921387 Validation Accuracy: 0.6603999137878418\n",
      "Epoch 17, CIFAR-10 Batch 1:  Loss: 0.8044927716255188 Validation Accuracy: 0.6511998772621155\n",
      "Epoch 17, CIFAR-10 Batch 2:  Loss: 0.7952243089675903 Validation Accuracy: 0.6713998913764954\n",
      "Epoch 17, CIFAR-10 Batch 3:  Loss: 0.7452036142349243 Validation Accuracy: 0.6649999022483826\n",
      "Epoch 17, CIFAR-10 Batch 4:  Loss: 0.7675439715385437 Validation Accuracy: 0.6555998921394348\n",
      "Epoch 17, CIFAR-10 Batch 5:  Loss: 0.7176086902618408 Validation Accuracy: 0.6761998534202576\n",
      "Epoch 18, CIFAR-10 Batch 1:  Loss: 0.7684456706047058 Validation Accuracy: 0.6675998568534851\n",
      "Epoch 18, CIFAR-10 Batch 2:  Loss: 0.7569546103477478 Validation Accuracy: 0.68479984998703\n",
      "Epoch 18, CIFAR-10 Batch 3:  Loss: 0.6994365453720093 Validation Accuracy: 0.6731998920440674\n",
      "Epoch 18, CIFAR-10 Batch 4:  Loss: 0.7365865707397461 Validation Accuracy: 0.66159987449646\n",
      "Epoch 18, CIFAR-10 Batch 5:  Loss: 0.6933885216712952 Validation Accuracy: 0.6799998879432678\n",
      "Epoch 19, CIFAR-10 Batch 1:  Loss: 0.724971354007721 Validation Accuracy: 0.6723998785018921\n",
      "Epoch 19, CIFAR-10 Batch 2:  Loss: 0.7386503219604492 Validation Accuracy: 0.6829999089241028\n",
      "Epoch 19, CIFAR-10 Batch 3:  Loss: 0.6881368160247803 Validation Accuracy: 0.6703999042510986\n",
      "Epoch 19, CIFAR-10 Batch 4:  Loss: 0.7275082468986511 Validation Accuracy: 0.6551998853683472\n",
      "Epoch 19, CIFAR-10 Batch 5:  Loss: 0.6774587631225586 Validation Accuracy: 0.6797999143600464\n",
      "Epoch 20, CIFAR-10 Batch 1:  Loss: 0.7338504791259766 Validation Accuracy: 0.6609998941421509\n",
      "Epoch 20, CIFAR-10 Batch 2:  Loss: 0.7435766458511353 Validation Accuracy: 0.6751998662948608\n",
      "Epoch 20, CIFAR-10 Batch 3:  Loss: 0.6653698086738586 Validation Accuracy: 0.6765998601913452\n",
      "Epoch 20, CIFAR-10 Batch 4:  Loss: 0.6808983683586121 Validation Accuracy: 0.6759998202323914\n",
      "Epoch 20, CIFAR-10 Batch 5:  Loss: 0.6368331909179688 Validation Accuracy: 0.6859999299049377\n",
      "Epoch 21, CIFAR-10 Batch 1:  Loss: 0.738515317440033 Validation Accuracy: 0.6665998697280884\n",
      "Epoch 21, CIFAR-10 Batch 2:  Loss: 0.7589179277420044 Validation Accuracy: 0.6613998413085938\n",
      "Epoch 21, CIFAR-10 Batch 3:  Loss: 0.6433941125869751 Validation Accuracy: 0.6833999156951904\n",
      "Epoch 21, CIFAR-10 Batch 4:  Loss: 0.680035412311554 Validation Accuracy: 0.6795998811721802\n",
      "Epoch 21, CIFAR-10 Batch 5:  Loss: 0.6398748159408569 Validation Accuracy: 0.6885998249053955\n",
      "Epoch 22, CIFAR-10 Batch 1:  Loss: 0.6920115947723389 Validation Accuracy: 0.6759998798370361\n",
      "Epoch 22, CIFAR-10 Batch 2:  Loss: 0.7075949311256409 Validation Accuracy: 0.6731998920440674\n",
      "Epoch 22, CIFAR-10 Batch 3:  Loss: 0.6191818118095398 Validation Accuracy: 0.6915998458862305\n",
      "Epoch 22, CIFAR-10 Batch 4:  Loss: 0.6461522579193115 Validation Accuracy: 0.6833998560905457\n",
      "Epoch 22, CIFAR-10 Batch 5:  Loss: 0.6207180023193359 Validation Accuracy: 0.6827998161315918\n",
      "Epoch 23, CIFAR-10 Batch 1:  Loss: 0.6869081258773804 Validation Accuracy: 0.6725998520851135\n",
      "Epoch 23, CIFAR-10 Batch 2:  Loss: 0.6659150123596191 Validation Accuracy: 0.6911998987197876\n",
      "Epoch 23, CIFAR-10 Batch 3:  Loss: 0.5996978282928467 Validation Accuracy: 0.6951999068260193\n",
      "Epoch 23, CIFAR-10 Batch 4:  Loss: 0.6035521626472473 Validation Accuracy: 0.6919999122619629\n",
      "Epoch 23, CIFAR-10 Batch 5:  Loss: 0.5908821225166321 Validation Accuracy: 0.6929998397827148\n",
      "Epoch 24, CIFAR-10 Batch 1:  Loss: 0.6266235113143921 Validation Accuracy: 0.6877998113632202\n",
      "Epoch 24, CIFAR-10 Batch 2:  Loss: 0.6925095319747925 Validation Accuracy: 0.6777998805046082\n",
      "Epoch 24, CIFAR-10 Batch 3:  Loss: 0.5595309734344482 Validation Accuracy: 0.6929998397827148\n",
      "Epoch 24, CIFAR-10 Batch 4:  Loss: 0.5968987345695496 Validation Accuracy: 0.6825999021530151\n",
      "Epoch 24, CIFAR-10 Batch 5:  Loss: 0.5830811858177185 Validation Accuracy: 0.6903998851776123\n"
     ]
    },
    {
     "name": "stdout",
     "output_type": "stream",
     "text": [
      "Epoch 25, CIFAR-10 Batch 1:  Loss: 0.629584550857544 Validation Accuracy: 0.6803998947143555\n",
      "Epoch 25, CIFAR-10 Batch 2:  Loss: 0.633758544921875 Validation Accuracy: 0.6933998465538025\n",
      "Epoch 25, CIFAR-10 Batch 3:  Loss: 0.536870002746582 Validation Accuracy: 0.7017998099327087\n",
      "Epoch 25, CIFAR-10 Batch 4:  Loss: 0.573779821395874 Validation Accuracy: 0.6871998310089111\n",
      "Epoch 25, CIFAR-10 Batch 5:  Loss: 0.5629018545150757 Validation Accuracy: 0.6999998092651367\n",
      "Epoch 26, CIFAR-10 Batch 1:  Loss: 0.6093899011611938 Validation Accuracy: 0.686599850654602\n",
      "Epoch 26, CIFAR-10 Batch 2:  Loss: 0.6043895483016968 Validation Accuracy: 0.6983999013900757\n",
      "Epoch 26, CIFAR-10 Batch 3:  Loss: 0.5283080339431763 Validation Accuracy: 0.6999999284744263\n",
      "Epoch 26, CIFAR-10 Batch 4:  Loss: 0.5430142879486084 Validation Accuracy: 0.6981998682022095\n",
      "Epoch 26, CIFAR-10 Batch 5:  Loss: 0.5468674898147583 Validation Accuracy: 0.694399893283844\n",
      "Epoch 27, CIFAR-10 Batch 1:  Loss: 0.5763920545578003 Validation Accuracy: 0.6921998262405396\n",
      "Epoch 27, CIFAR-10 Batch 2:  Loss: 0.5944049954414368 Validation Accuracy: 0.697799801826477\n",
      "Epoch 27, CIFAR-10 Batch 3:  Loss: 0.49550971388816833 Validation Accuracy: 0.7045997977256775\n",
      "Epoch 27, CIFAR-10 Batch 4:  Loss: 0.5265411734580994 Validation Accuracy: 0.7015998959541321\n",
      "Epoch 27, CIFAR-10 Batch 5:  Loss: 0.5126968622207642 Validation Accuracy: 0.7025998830795288\n",
      "Epoch 28, CIFAR-10 Batch 1:  Loss: 0.5753173232078552 Validation Accuracy: 0.6893998384475708\n",
      "Epoch 28, CIFAR-10 Batch 2:  Loss: 0.5846331715583801 Validation Accuracy: 0.6947998404502869\n",
      "Epoch 28, CIFAR-10 Batch 3:  Loss: 0.48595762252807617 Validation Accuracy: 0.7077999114990234\n",
      "Epoch 28, CIFAR-10 Batch 4:  Loss: 0.5114970803260803 Validation Accuracy: 0.7021998167037964\n",
      "Epoch 28, CIFAR-10 Batch 5:  Loss: 0.5130391120910645 Validation Accuracy: 0.6963999271392822\n",
      "Epoch 29, CIFAR-10 Batch 1:  Loss: 0.5710784196853638 Validation Accuracy: 0.675399899482727\n",
      "Epoch 29, CIFAR-10 Batch 2:  Loss: 0.6056529879570007 Validation Accuracy: 0.685999870300293\n",
      "Epoch 29, CIFAR-10 Batch 3:  Loss: 0.499271035194397 Validation Accuracy: 0.7029998302459717\n",
      "Epoch 29, CIFAR-10 Batch 4:  Loss: 0.5069447755813599 Validation Accuracy: 0.7009998559951782\n",
      "Epoch 29, CIFAR-10 Batch 5:  Loss: 0.5471526980400085 Validation Accuracy: 0.6847999095916748\n",
      "Epoch 30, CIFAR-10 Batch 1:  Loss: 0.5197403430938721 Validation Accuracy: 0.6979998350143433\n",
      "Epoch 30, CIFAR-10 Batch 2:  Loss: 0.5538926720619202 Validation Accuracy: 0.6945998668670654\n",
      "Epoch 30, CIFAR-10 Batch 3:  Loss: 0.5243842601776123 Validation Accuracy: 0.6883998513221741\n",
      "Epoch 30, CIFAR-10 Batch 4:  Loss: 0.49748995900154114 Validation Accuracy: 0.7025998830795288\n",
      "Epoch 30, CIFAR-10 Batch 5:  Loss: 0.5020517110824585 Validation Accuracy: 0.6881998777389526\n",
      "Epoch 31, CIFAR-10 Batch 1:  Loss: 0.5299285650253296 Validation Accuracy: 0.6935998201370239\n",
      "Epoch 31, CIFAR-10 Batch 2:  Loss: 0.5514874458312988 Validation Accuracy: 0.6823998093605042\n",
      "Epoch 31, CIFAR-10 Batch 3:  Loss: 0.5628942847251892 Validation Accuracy: 0.6721999049186707\n",
      "Epoch 31, CIFAR-10 Batch 4:  Loss: 0.5218093991279602 Validation Accuracy: 0.6907998323440552\n",
      "Epoch 31, CIFAR-10 Batch 5:  Loss: 0.46307572722435 Validation Accuracy: 0.6997998356819153\n",
      "Epoch 32, CIFAR-10 Batch 1:  Loss: 0.48681527376174927 Validation Accuracy: 0.7059998512268066\n",
      "Epoch 32, CIFAR-10 Batch 2:  Loss: 0.521852970123291 Validation Accuracy: 0.6971999406814575\n",
      "Epoch 32, CIFAR-10 Batch 3:  Loss: 0.46294087171554565 Validation Accuracy: 0.6915999054908752\n",
      "Epoch 32, CIFAR-10 Batch 4:  Loss: 0.47907447814941406 Validation Accuracy: 0.6927998661994934\n",
      "Epoch 32, CIFAR-10 Batch 5:  Loss: 0.44443655014038086 Validation Accuracy: 0.704399824142456\n",
      "Epoch 33, CIFAR-10 Batch 1:  Loss: 0.4629223346710205 Validation Accuracy: 0.7061998844146729\n",
      "Epoch 33, CIFAR-10 Batch 2:  Loss: 0.5040714740753174 Validation Accuracy: 0.6981998682022095\n",
      "Epoch 33, CIFAR-10 Batch 3:  Loss: 0.4272763729095459 Validation Accuracy: 0.7027997970581055\n",
      "Epoch 33, CIFAR-10 Batch 4:  Loss: 0.4628458321094513 Validation Accuracy: 0.6963998675346375\n",
      "Epoch 33, CIFAR-10 Batch 5:  Loss: 0.4276815950870514 Validation Accuracy: 0.7017998695373535\n",
      "Epoch 34, CIFAR-10 Batch 1:  Loss: 0.4713417887687683 Validation Accuracy: 0.7055999040603638\n",
      "Epoch 34, CIFAR-10 Batch 2:  Loss: 0.4779837131500244 Validation Accuracy: 0.6951999068260193\n",
      "Epoch 34, CIFAR-10 Batch 3:  Loss: 0.41010335087776184 Validation Accuracy: 0.7059998512268066\n",
      "Epoch 34, CIFAR-10 Batch 4:  Loss: 0.4405708909034729 Validation Accuracy: 0.6943997740745544\n",
      "Epoch 34, CIFAR-10 Batch 5:  Loss: 0.42101186513900757 Validation Accuracy: 0.6971999406814575\n",
      "Epoch 35, CIFAR-10 Batch 1:  Loss: 0.4665668308734894 Validation Accuracy: 0.7087998390197754\n",
      "Epoch 35, CIFAR-10 Batch 2:  Loss: 0.4811168313026428 Validation Accuracy: 0.6949998736381531\n",
      "Epoch 35, CIFAR-10 Batch 3:  Loss: 0.43409568071365356 Validation Accuracy: 0.7029998302459717\n",
      "Epoch 35, CIFAR-10 Batch 4:  Loss: 0.43007010221481323 Validation Accuracy: 0.6981998682022095\n",
      "Epoch 35, CIFAR-10 Batch 5:  Loss: 0.4087209105491638 Validation Accuracy: 0.6977998614311218\n",
      "Epoch 36, CIFAR-10 Batch 1:  Loss: 0.46327781677246094 Validation Accuracy: 0.6905998587608337\n",
      "Epoch 36, CIFAR-10 Batch 2:  Loss: 0.4656744599342346 Validation Accuracy: 0.6897997856140137\n",
      "Epoch 36, CIFAR-10 Batch 3:  Loss: 0.4787006378173828 Validation Accuracy: 0.686599850654602\n",
      "Epoch 36, CIFAR-10 Batch 4:  Loss: 0.41538646817207336 Validation Accuracy: 0.697999894618988\n",
      "Epoch 36, CIFAR-10 Batch 5:  Loss: 0.4199413061141968 Validation Accuracy: 0.6889998912811279\n",
      "Epoch 37, CIFAR-10 Batch 1:  Loss: 0.4774176776409149 Validation Accuracy: 0.6911998987197876\n",
      "Epoch 37, CIFAR-10 Batch 2:  Loss: 0.4452880620956421 Validation Accuracy: 0.7011998891830444\n",
      "Epoch 37, CIFAR-10 Batch 3:  Loss: 0.4934811294078827 Validation Accuracy: 0.6815998554229736\n",
      "Epoch 37, CIFAR-10 Batch 4:  Loss: 0.43961378931999207 Validation Accuracy: 0.6995998024940491\n",
      "Epoch 37, CIFAR-10 Batch 5:  Loss: 0.41861528158187866 Validation Accuracy: 0.6887998580932617\n",
      "Epoch 38, CIFAR-10 Batch 1:  Loss: 0.43964245915412903 Validation Accuracy: 0.7041999101638794\n",
      "Epoch 38, CIFAR-10 Batch 2:  Loss: 0.4472154676914215 Validation Accuracy: 0.702799916267395\n",
      "Epoch 38, CIFAR-10 Batch 3:  Loss: 0.436720073223114 Validation Accuracy: 0.6933998465538025\n",
      "Epoch 38, CIFAR-10 Batch 4:  Loss: 0.40386974811553955 Validation Accuracy: 0.7109999060630798\n",
      "Epoch 38, CIFAR-10 Batch 5:  Loss: 0.384708970785141 Validation Accuracy: 0.7055999040603638\n",
      "Epoch 39, CIFAR-10 Batch 1:  Loss: 0.4246433973312378 Validation Accuracy: 0.7041999101638794\n",
      "Epoch 39, CIFAR-10 Batch 2:  Loss: 0.4222683310508728 Validation Accuracy: 0.7065998911857605\n",
      "Epoch 39, CIFAR-10 Batch 3:  Loss: 0.45814478397369385 Validation Accuracy: 0.6857998967170715\n",
      "Epoch 39, CIFAR-10 Batch 4:  Loss: 0.4376871585845947 Validation Accuracy: 0.6965999603271484\n",
      "Epoch 39, CIFAR-10 Batch 5:  Loss: 0.3899700939655304 Validation Accuracy: 0.7039998769760132\n",
      "Epoch 40, CIFAR-10 Batch 1:  Loss: 0.3874785900115967 Validation Accuracy: 0.7077999114990234\n",
      "Epoch 40, CIFAR-10 Batch 2:  Loss: 0.43090584874153137 Validation Accuracy: 0.6959998607635498\n",
      "Epoch 40, CIFAR-10 Batch 3:  Loss: 0.4232945442199707 Validation Accuracy: 0.6933998465538025\n",
      "Epoch 40, CIFAR-10 Batch 4:  Loss: 0.40788596868515015 Validation Accuracy: 0.7045998573303223\n",
      "Epoch 40, CIFAR-10 Batch 5:  Loss: 0.3733036518096924 Validation Accuracy: 0.7079998850822449\n",
      "Epoch 41, CIFAR-10 Batch 1:  Loss: 0.393067866563797 Validation Accuracy: 0.7061998844146729\n",
      "Epoch 41, CIFAR-10 Batch 2:  Loss: 0.42364880442619324 Validation Accuracy: 0.6941998600959778\n",
      "Epoch 41, CIFAR-10 Batch 3:  Loss: 0.4136710464954376 Validation Accuracy: 0.6961998343467712\n",
      "Epoch 41, CIFAR-10 Batch 4:  Loss: 0.3740573823451996 Validation Accuracy: 0.7079998254776001\n",
      "Epoch 41, CIFAR-10 Batch 5:  Loss: 0.40663066506385803 Validation Accuracy: 0.694399893283844\n",
      "Epoch 42, CIFAR-10 Batch 1:  Loss: 0.431718111038208 Validation Accuracy: 0.6977998614311218\n",
      "Epoch 42, CIFAR-10 Batch 2:  Loss: 0.4051584005355835 Validation Accuracy: 0.697999894618988\n"
     ]
    },
    {
     "name": "stdout",
     "output_type": "stream",
     "text": [
      "Epoch 42, CIFAR-10 Batch 3:  Loss: 0.41758593916893005 Validation Accuracy: 0.6981999278068542\n",
      "Epoch 42, CIFAR-10 Batch 4:  Loss: 0.39180105924606323 Validation Accuracy: 0.7023998498916626\n",
      "Epoch 42, CIFAR-10 Batch 5:  Loss: 0.4065901041030884 Validation Accuracy: 0.6991997957229614\n",
      "Epoch 43, CIFAR-10 Batch 1:  Loss: 0.4023396372795105 Validation Accuracy: 0.7077998518943787\n",
      "Epoch 43, CIFAR-10 Batch 2:  Loss: 0.37515556812286377 Validation Accuracy: 0.708599865436554\n",
      "Epoch 43, CIFAR-10 Batch 3:  Loss: 0.3968534767627716 Validation Accuracy: 0.7003998160362244\n",
      "Epoch 43, CIFAR-10 Batch 4:  Loss: 0.39171865582466125 Validation Accuracy: 0.6995998024940491\n",
      "Epoch 43, CIFAR-10 Batch 5:  Loss: 0.3861331641674042 Validation Accuracy: 0.6923998594284058\n",
      "Epoch 44, CIFAR-10 Batch 1:  Loss: 0.40402060747146606 Validation Accuracy: 0.7057998180389404\n",
      "Epoch 44, CIFAR-10 Batch 2:  Loss: 0.3744589388370514 Validation Accuracy: 0.6983998417854309\n",
      "Epoch 44, CIFAR-10 Batch 3:  Loss: 0.3729986846446991 Validation Accuracy: 0.7089998126029968\n",
      "Epoch 44, CIFAR-10 Batch 4:  Loss: 0.3562537729740143 Validation Accuracy: 0.7029998302459717\n",
      "Epoch 44, CIFAR-10 Batch 5:  Loss: 0.3398579955101013 Validation Accuracy: 0.6995998620986938\n",
      "Epoch 45, CIFAR-10 Batch 1:  Loss: 0.36642611026763916 Validation Accuracy: 0.7053998112678528\n",
      "Epoch 45, CIFAR-10 Batch 2:  Loss: 0.34904173016548157 Validation Accuracy: 0.7021999359130859\n",
      "Epoch 45, CIFAR-10 Batch 3:  Loss: 0.34880274534225464 Validation Accuracy: 0.704599916934967\n",
      "Epoch 45, CIFAR-10 Batch 4:  Loss: 0.3220454752445221 Validation Accuracy: 0.7117998600006104\n",
      "Epoch 45, CIFAR-10 Batch 5:  Loss: 0.33147186040878296 Validation Accuracy: 0.7063999176025391\n",
      "Epoch 46, CIFAR-10 Batch 1:  Loss: 0.334267258644104 Validation Accuracy: 0.7145999073982239\n",
      "Epoch 46, CIFAR-10 Batch 2:  Loss: 0.32277920842170715 Validation Accuracy: 0.7075998187065125\n",
      "Epoch 46, CIFAR-10 Batch 3:  Loss: 0.3410950303077698 Validation Accuracy: 0.7083998322486877\n",
      "Epoch 46, CIFAR-10 Batch 4:  Loss: 0.3238794207572937 Validation Accuracy: 0.7125998735427856\n",
      "Epoch 46, CIFAR-10 Batch 5:  Loss: 0.3226390480995178 Validation Accuracy: 0.7071998715400696\n",
      "Epoch 47, CIFAR-10 Batch 1:  Loss: 0.3362129330635071 Validation Accuracy: 0.7021997570991516\n",
      "Epoch 47, CIFAR-10 Batch 2:  Loss: 0.33632612228393555 Validation Accuracy: 0.6939998865127563\n",
      "Epoch 47, CIFAR-10 Batch 3:  Loss: 0.33530932664871216 Validation Accuracy: 0.7083998322486877\n",
      "Epoch 47, CIFAR-10 Batch 4:  Loss: 0.3722935616970062 Validation Accuracy: 0.691399872303009\n",
      "Epoch 47, CIFAR-10 Batch 5:  Loss: 0.37271812558174133 Validation Accuracy: 0.6903998851776123\n",
      "Epoch 48, CIFAR-10 Batch 1:  Loss: 0.363337904214859 Validation Accuracy: 0.7069998383522034\n",
      "Epoch 48, CIFAR-10 Batch 2:  Loss: 0.33399927616119385 Validation Accuracy: 0.6917998790740967\n",
      "Epoch 48, CIFAR-10 Batch 3:  Loss: 0.32335764169692993 Validation Accuracy: 0.707399845123291\n",
      "Epoch 48, CIFAR-10 Batch 4:  Loss: 0.35836508870124817 Validation Accuracy: 0.6929998993873596\n",
      "Epoch 48, CIFAR-10 Batch 5:  Loss: 0.33408814668655396 Validation Accuracy: 0.7005999088287354\n",
      "Epoch 49, CIFAR-10 Batch 1:  Loss: 0.3772318363189697 Validation Accuracy: 0.6973998546600342\n",
      "Epoch 49, CIFAR-10 Batch 2:  Loss: 0.3321859836578369 Validation Accuracy: 0.6975998878479004\n",
      "Epoch 49, CIFAR-10 Batch 3:  Loss: 0.3052082657814026 Validation Accuracy: 0.7011998295783997\n",
      "Epoch 49, CIFAR-10 Batch 4:  Loss: 0.3435964584350586 Validation Accuracy: 0.694399893283844\n",
      "Epoch 49, CIFAR-10 Batch 5:  Loss: 0.3039492666721344 Validation Accuracy: 0.7031998038291931\n",
      "Epoch 50, CIFAR-10 Batch 1:  Loss: 0.33173614740371704 Validation Accuracy: 0.707399845123291\n",
      "Epoch 50, CIFAR-10 Batch 2:  Loss: 0.3437155485153198 Validation Accuracy: 0.6873998641967773\n",
      "Epoch 50, CIFAR-10 Batch 3:  Loss: 0.3426758348941803 Validation Accuracy: 0.6873998045921326\n",
      "Epoch 50, CIFAR-10 Batch 4:  Loss: 0.33212387561798096 Validation Accuracy: 0.6975998878479004\n",
      "Epoch 50, CIFAR-10 Batch 5:  Loss: 0.2835851311683655 Validation Accuracy: 0.7075998187065125\n"
     ]
    }
   ],
   "source": [
    "\"\"\"\n",
    "DON'T MODIFY ANYTHING IN THIS CELL\n",
    "\"\"\"\n",
    "save_model_path = './image_classification'\n",
    "\n",
    "print('Training...')\n",
    "with tf.Session() as sess:\n",
    "    # Initializing the variables\n",
    "    sess.run(tf.global_variables_initializer())\n",
    "    \n",
    "    # Training cycle\n",
    "    for epoch in range(epochs):\n",
    "        # Loop over all batches\n",
    "        n_batches = 5\n",
    "        for batch_i in range(1, n_batches + 1):\n",
    "            for batch_features, batch_labels in helper.load_preprocess_training_batch(batch_i, batch_size):\n",
    "                train_neural_network(sess, optimizer, keep_probability, batch_features, batch_labels)\n",
    "            print('Epoch {:>2}, CIFAR-10 Batch {}:  '.format(epoch + 1, batch_i), end='')\n",
    "            print_stats(sess, batch_features, batch_labels, cost, accuracy)\n",
    "            \n",
    "    # Save Model\n",
    "    saver = tf.train.Saver()\n",
    "    save_path = saver.save(sess, save_model_path)"
   ]
  },
  {
   "cell_type": "markdown",
   "metadata": {},
   "source": [
    "# Checkpoint\n",
    "The model has been saved to disk.\n",
    "## Test Model\n",
    "Test your model against the test dataset.  This will be your final accuracy. You should have an accuracy greater than 50%. If you don't, keep tweaking the model architecture and parameters."
   ]
  },
  {
   "cell_type": "code",
   "execution_count": null,
   "metadata": {},
   "outputs": [
    {
     "name": "stdout",
     "output_type": "stream",
     "text": [
      "INFO:tensorflow:Restoring parameters from ./image_classification\n",
      "Testing Accuracy: 0.6978196799755096\n",
      "\n"
     ]
    },
    {
     "data": {
      "image/png": "[encoded data removed]",
      "text/plain": [
       "<matplotlib.figure.Figure at 0x7f7a33b01d30>"
      ]
     },
     "metadata": {
      "image/png": {
       "height": 319,
       "width": 355
      }
     },
     "output_type": "display_data"
    }
   ],
   "source": [
    "\"\"\"\n",
    "DON'T MODIFY ANYTHING IN THIS CELL\n",
    "\"\"\"\n",
    "%matplotlib inline\n",
    "%config InlineBackend.figure_format = 'retina'\n",
    "\n",
    "import tensorflow as tf\n",
    "import pickle\n",
    "import helper\n",
    "import random\n",
    "\n",
    "# Set batch size if not already set\n",
    "try:\n",
    "    if batch_size:\n",
    "        pass\n",
    "except NameError:\n",
    "    batch_size = 64\n",
    "\n",
    "save_model_path = './image_classification'\n",
    "n_samples = 4\n",
    "top_n_predictions = 3\n",
    "\n",
    "def test_model():\n",
    "    \"\"\"\n",
    "    Test the saved model against the test dataset\n",
    "    \"\"\"\n",
    "\n",
    "    test_features, test_labels = pickle.load(open('preprocess_training.p', mode='rb'))\n",
    "    loaded_graph = tf.Graph()\n",
    "\n",
    "    with tf.Session(graph=loaded_graph) as sess:\n",
    "        # Load model\n",
    "        loader = tf.train.import_meta_graph(save_model_path + '.meta')\n",
    "        loader.restore(sess, save_model_path)\n",
    "\n",
    "        # Get Tensors from loaded model\n",
    "        loaded_x = loaded_graph.get_tensor_by_name('x:0')\n",
    "        loaded_y = loaded_graph.get_tensor_by_name('y:0')\n",
    "        loaded_keep_prob = loaded_graph.get_tensor_by_name('keep_prob:0')\n",
    "        loaded_logits = loaded_graph.get_tensor_by_name('logits:0')\n",
    "        loaded_acc = loaded_graph.get_tensor_by_name('accuracy:0')\n",
    "        \n",
    "        # Get accuracy in batches for memory limitations\n",
    "        test_batch_acc_total = 0\n",
    "        test_batch_count = 0\n",
    "        \n",
    "        for train_feature_batch, train_label_batch in helper.batch_features_labels(test_features, test_labels, batch_size):\n",
    "            test_batch_acc_total += sess.run(\n",
    "                loaded_acc,\n",
    "                feed_dict={loaded_x: train_feature_batch, loaded_y: train_label_batch, loaded_keep_prob: 1.0})\n",
    "            test_batch_count += 1\n",
    "\n",
    "        print('Testing Accuracy: {}\\n'.format(test_batch_acc_total/test_batch_count))\n",
    "\n",
    "        # Print Random Samples\n",
    "        random_test_features, random_test_labels = tuple(zip(*random.sample(list(zip(test_features, test_labels)), n_samples)))\n",
    "        random_test_predictions = sess.run(\n",
    "            tf.nn.top_k(tf.nn.softmax(loaded_logits), top_n_predictions),\n",
    "            feed_dict={loaded_x: random_test_features, loaded_y: random_test_labels, loaded_keep_prob: 1.0})\n",
    "        helper.display_image_predictions(random_test_features, random_test_labels, random_test_predictions)\n",
    "\n",
    "\n",
    "test_model()"
   ]
  },
  {
   "cell_type": "markdown",
   "metadata": {},
   "source": [
    "## Why 50-70% Accuracy?\n",
    "You might be wondering why you can't get an accuracy any higher. First things first, 50% isn't bad for a simple CNN.  Pure guessing would get you 10% accuracy. However, you might notice people are getting scores [well above 70%](http://rodrigob.github.io/are_we_there_yet/build/classification_datasets_results.html#43494641522d3130).  That's because we haven't taught you all there is to know about neural networks. We still need to cover a few more techniques.\n",
    "## Submitting This Project\n",
    "When submitting this project, make sure to run all the cells before saving the notebook.  Save the notebook file as \"dlnd_image_classification.ipynb\" and save it as a HTML file under \"File\" -> \"Download as\".  Include the \"helper.py\" and \"problem_unittests.py\" files in your submission."
   ]
  }
 ],
 "metadata": {
  "kernelspec": {
   "display_name": "Python 3",
   "language": "python",
   "name": "python3"
  },
  "language_info": {
   "codemirror_mode": {
    "name": "ipython",
    "version": 3
   },
   "file_extension": ".py",
   "mimetype": "text/x-python",
   "name": "python",
   "nbconvert_exporter": "python",
   "pygments_lexer": "ipython3",
   "version": "3.5.3"
  }
 },
 "nbformat": 4,
 "nbformat_minor": 1
}
